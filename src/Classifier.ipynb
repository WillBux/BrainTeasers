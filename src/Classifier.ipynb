{
 "cells": [
  {
   "cell_type": "code",
   "execution_count": 72,
   "id": "28618179-c582-4b1d-ac8f-fe2e96cc8e3e",
   "metadata": {
    "tags": []
   },
   "outputs": [],
   "source": [
    "import numpy as np\n",
    "import csv\n",
    "import pandas as pd\n",
    "import sklearn\n",
    "from sklearn import model_selection\n",
    "from sklearn import linear_model\n",
    "from sklearn import discriminant_analysis"
   ]
  },
  {
   "cell_type": "code",
   "execution_count": 2,
   "id": "004c045f-8938-4892-91f0-15b3af2938d5",
   "metadata": {
    "tags": []
   },
   "outputs": [],
   "source": [
    "def get_onsets(file: str) -> list[float]:\n",
    "    with open(file, 'r') as csvfile:\n",
    "        read = csv.reader(csvfile)\n",
    "        return [float(row[0]) for row in read]\n",
    "\n",
    "hits = get_onsets(\"../stroop/meas/onsets_t.csv\")\n",
    "miss = get_onsets(\"../stroop/meas/onsets_f.csv\")\n"
   ]
  },
  {
   "cell_type": "code",
   "execution_count": 15,
   "id": "e10142c2-581d-402e-9f30-141e71d4ca6c",
   "metadata": {
    "tags": []
   },
   "outputs": [],
   "source": [
    "d = pd.read_csv(\"processed.csv\", header=None)\n",
    "df = d.values[:,1:]"
   ]
  },
  {
   "cell_type": "code",
   "execution_count": 51,
   "id": "9c2b8662-578d-4ea3-91f8-26f12219d1bd",
   "metadata": {
    "tags": []
   },
   "outputs": [],
   "source": [
    "def gen_data(hits):\n",
    "    data = []\n",
    "    for hit in hits:\n",
    "        start = int((hit-1)*10)\n",
    "        end = int((hit+9)*10)\n",
    "        data.append(df[start:end])\n",
    "    return np.array(data)\n",
    "hit_data = gen_data(hits)\n",
    "mis_data = gen_data(miss)\n",
    "x = np.concatenate((hit_data, mis_data), axis=0)\n",
    "y = np.array([1]*hit_data.shape[0]+[0]*mis_data.shape[0])"
   ]
  },
  {
   "cell_type": "code",
   "execution_count": 61,
   "id": "11db33d6-c36f-4a9d-b4d1-4945c8da62bf",
   "metadata": {
    "tags": []
   },
   "outputs": [
    {
     "data": {
      "text/plain": [
       "(100, 10400)"
      ]
     },
     "execution_count": 61,
     "metadata": {},
     "output_type": "execute_result"
    }
   ],
   "source": [
    "x = x.reshape(x.shape[0], -1)\n",
    "x.shape"
   ]
  },
  {
   "cell_type": "code",
   "execution_count": 62,
   "id": "8c5d1eb1-86db-4024-875b-6796611ae8e8",
   "metadata": {
    "tags": []
   },
   "outputs": [],
   "source": [
    "X_train, X_test, y_train, y_test = model_selection.train_test_split(x, y, test_size=0.2, shuffle=True, stratify=y)"
   ]
  },
  {
   "cell_type": "code",
   "execution_count": 69,
   "id": "536eeb25-8f76-4d31-82ac-f2f1313f32ae",
   "metadata": {
    "tags": []
   },
   "outputs": [
    {
     "data": {
      "text/plain": [
       "0.8"
      ]
     },
     "execution_count": 69,
     "metadata": {},
     "output_type": "execute_result"
    }
   ],
   "source": [
    "reg = linear_model.LogisticRegression()\n",
    "reg.fit(X_train, y_train)\n",
    "reg.score(X_test, y_test)"
   ]
  },
  {
   "cell_type": "code",
   "execution_count": 70,
   "id": "9cc5676a-46f4-4aa4-8118-364db3eb30f3",
   "metadata": {
    "tags": []
   },
   "outputs": [
    {
     "data": {
      "text/plain": [
       "0.8"
      ]
     },
     "execution_count": 70,
     "metadata": {},
     "output_type": "execute_result"
    }
   ],
   "source": [
    "clf = sklearn.svm.SVC()\n",
    "clf.fit(X_train, y_train)\n",
    "clf.score(X_test, y_test)"
   ]
  },
  {
   "cell_type": "code",
   "execution_count": 73,
   "id": "59bdd318-f307-4b02-bf11-9c601f5513da",
   "metadata": {
    "tags": []
   },
   "outputs": [
    {
     "data": {
      "text/plain": [
       "0.7"
      ]
     },
     "execution_count": 73,
     "metadata": {},
     "output_type": "execute_result"
    }
   ],
   "source": [
    "lda = discriminant_analysis.LinearDiscriminantAnalysis()\n",
    "lda.fit(X_train, y_train)\n",
    "lda.score(X_test, y_test)"
   ]
  },
  {
   "cell_type": "code",
   "execution_count": null,
   "id": "a89c2fd0-c62f-44f2-bcf2-68bf6c83a18d",
   "metadata": {},
   "outputs": [],
   "source": []
  }
 ],
 "metadata": {
  "kernelspec": {
   "display_name": "Python 3 (ipykernel)",
   "language": "python",
   "name": "python3"
  },
  "language_info": {
   "codemirror_mode": {
    "name": "ipython",
    "version": 3
   },
   "file_extension": ".py",
   "mimetype": "text/x-python",
   "name": "python",
   "nbconvert_exporter": "python",
   "pygments_lexer": "ipython3",
   "version": "3.11.2"
  }
 },
 "nbformat": 4,
 "nbformat_minor": 5
}
