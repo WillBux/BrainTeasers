{
 "cells": [
  {
   "cell_type": "code",
   "execution_count": null,
   "id": "28618179-c582-4b1d-ac8f-fe2e96cc8e3e",
   "metadata": {
    "tags": []
   },
   "outputs": [],
   "source": [
    "import numpy as np\n",
    "import csv\n",
    "import pandas as pd\n",
    "import sklearn\n",
    "from sklearn import model_selection\n",
    "from sklearn import linear_model\n",
    "from sklearn import discriminant_analysis\n",
    "\n",
    "import torch\n",
    "import torch.nn as nn\n",
    "import torch.optim as optim\n",
    "from torch.utils.data import DataLoader, TensorDataset, WeightedRandomSampler"
   ]
  },
  {
   "cell_type": "code",
   "execution_count": null,
   "id": "004c045f-8938-4892-91f0-15b3af2938d5",
   "metadata": {
    "tags": []
   },
   "outputs": [],
   "source": [
    "def get_onsets(file: str) -> list[float]:\n",
    "    with open(file, 'r') as csvfile:\n",
    "        read = csv.reader(csvfile)\n",
    "        return [float(row[0]) for row in read]\n",
    "\n",
    "hits = get_onsets(\"../stroop/meas/onsets_t.csv\")\n",
    "miss = get_onsets(\"../stroop/meas/onsets_f.csv\")\n"
   ]
  },
  {
   "cell_type": "code",
   "execution_count": null,
   "id": "e10142c2-581d-402e-9f30-141e71d4ca6c",
   "metadata": {
    "tags": []
   },
   "outputs": [],
   "source": [
    "d = pd.read_csv(\"processed.csv\", header=None)\n",
    "df = d.values[:,1:]"
   ]
  },
  {
   "cell_type": "code",
   "execution_count": null,
   "id": "9c2b8662-578d-4ea3-91f8-26f12219d1bd",
   "metadata": {
    "tags": []
   },
   "outputs": [],
   "source": [
    "def gen_data(hits):\n",
    "    data = []\n",
    "    for hit in hits:\n",
    "        start = int((hit-1)*10)\n",
    "        end = int((hit+15)*10)\n",
    "        data.append(df[start:end])\n",
    "    return np.array(data)\n",
    "hit_data = gen_data(hits)\n",
    "mis_data = gen_data(miss)\n",
    "x = np.concatenate((hit_data, mis_data), axis=0)\n",
    "y = np.array([1]*hit_data.shape[0]+[0]*mis_data.shape[0])"
   ]
  },
  {
   "cell_type": "code",
   "execution_count": null,
   "id": "11db33d6-c36f-4a9d-b4d1-4945c8da62bf",
   "metadata": {
    "tags": []
   },
   "outputs": [],
   "source": [
    "x_flat = x.reshape(x.shape[0], -1)\n",
    "x_flat.shape"
   ]
  },
  {
   "cell_type": "code",
   "execution_count": null,
   "id": "8c5d1eb1-86db-4024-875b-6796611ae8e8",
   "metadata": {
    "tags": []
   },
   "outputs": [],
   "source": [
    "X_train, X_test, y_train, y_test = model_selection.train_test_split(x_flat, y, test_size=0.2, shuffle=True, stratify=y)"
   ]
  },
  {
   "cell_type": "code",
   "execution_count": null,
   "id": "536eeb25-8f76-4d31-82ac-f2f1313f32ae",
   "metadata": {
    "tags": []
   },
   "outputs": [],
   "source": [
    "reg = linear_model.LogisticRegression(penalty='l2')\n",
    "reg.fit(X_train, y_train)\n",
    "reg.score(X_test, y_test)\n",
    "reg.score(x_flat,y)"
   ]
  },
  {
   "cell_type": "code",
   "execution_count": null,
   "id": "cd4649fd-cf35-4e0a-8249-d6c8045f4b3b",
   "metadata": {
    "tags": []
   },
   "outputs": [],
   "source": [
    "import pickle\n",
    "filename = 'glm_model.pkl'\n",
    "pickle.dump(reg, open(filename, 'wb'))"
   ]
  },
  {
   "cell_type": "code",
   "execution_count": null,
   "id": "9cc5676a-46f4-4aa4-8118-364db3eb30f3",
   "metadata": {
    "tags": []
   },
   "outputs": [],
   "source": [
    "clf = sklearn.svm.SVC()\n",
    "clf.fit(X_train, y_train)\n",
    "clf.score(X_test, y_test)"
   ]
  },
  {
   "cell_type": "code",
   "execution_count": null,
   "id": "59bdd318-f307-4b02-bf11-9c601f5513da",
   "metadata": {
    "tags": []
   },
   "outputs": [],
   "source": [
    "lda = discriminant_analysis.LinearDiscriminantAnalysis()\n",
    "lda.fit(X_train, y_train)\n",
    "lda.score(X_test, y_test)"
   ]
  },
  {
   "cell_type": "code",
   "execution_count": null,
   "id": "a89c2fd0-c62f-44f2-bcf2-68bf6c83a18d",
   "metadata": {},
   "outputs": [],
   "source": [
    "class LSTMClassifier(nn.Module):\n",
    "    def __init__(self, input_size, hidden_size, output_size):\n",
    "        super().__init__()\n",
    "        self.lstm_1 = nn.LSTM(input_size=input_size, hidden_size=hidden_size, num_layers=3, batch_first=True)\n",
    "        self.conv1d = nn.Conv1d(in_channels=1, out_channels=32, kernel_size=5)\n",
    "        self.fc1 = nn.Linear(3968, 128)\n",
    "        self.fc2 = nn.Linear(128, output_size)\n",
    "        self.relu = nn.ReLU()\n",
    "        self.sigmoid = nn.Sigmoid()\n",
    "\n",
    "    def forward(self, x):  \n",
    "        x, _ = self.lstm_1(x)\n",
    "        x = x[:,-1,:]\n",
    "        x = self.relu(x)\n",
    "        x = x[:,None,:]\n",
    "        x = self.relu(self.conv1d(x))\n",
    "        x = x.view(x.size(0), -1)\n",
    "        x = self.relu(self.fc1(x))\n",
    "        x = self.sigmoid(self.fc2(x))\n",
    "        return x"
   ]
  },
  {
   "cell_type": "code",
   "execution_count": null,
   "id": "3d57997e-26ee-4b0e-b9cb-72a7ea8ada72",
   "metadata": {
    "tags": []
   },
   "outputs": [],
   "source": [
    "X_train, X_test, y_train, y_test = model_selection.train_test_split(x, y, test_size=0.2, shuffle=True, stratify=y)"
   ]
  },
  {
   "cell_type": "code",
   "execution_count": null,
   "id": "802430b8-c214-43b1-8f2b-4670cf9a7a1d",
   "metadata": {
    "tags": []
   },
   "outputs": [],
   "source": [
    "label, counts = np.unique(y_train, return_counts=True)\n",
    "class_weights = [sum(counts)/c for c in counts]\n",
    "weights = [class_weights[e] for e in y_train]\n",
    "sampler = WeightedRandomSampler(weights, len(y_train))"
   ]
  },
  {
   "cell_type": "code",
   "execution_count": null,
   "id": "b45b4b4a-ec6e-480b-860e-e4dd12051726",
   "metadata": {
    "tags": []
   },
   "outputs": [],
   "source": [
    "model = LSTMClassifier(x.shape[2], 128, 1)\n",
    "\n",
    "# Define the loss and optimizer\n",
    "criterion = nn.BCELoss()\n",
    "optimizer = optim.Adam(model.parameters(), lr=0.01)\n",
    "\n",
    "# Create the DataLoader objects for training and testing\n",
    "train_dataset = TensorDataset(torch.from_numpy(X_train).float(), torch.from_numpy(y_train).float())\n",
    "train_loader = DataLoader(train_dataset, batch_size=64, sampler=sampler)\n",
    "test_dataset = TensorDataset(torch.from_numpy(X_test).float(), torch.from_numpy(y_test).float())\n",
    "test_loader = DataLoader(test_dataset, batch_size=64)\n"
   ]
  },
  {
   "cell_type": "code",
   "execution_count": null,
   "id": "dd88fb19-30c6-4110-a2d6-79ea99033820",
   "metadata": {
    "tags": []
   },
   "outputs": [],
   "source": [
    "# Train the model\n",
    "n_epochs = 20\n",
    "for epoch in range(n_epochs):\n",
    "    for i, (inputs, targets) in enumerate(train_loader):\n",
    "        optimizer.zero_grad()\n",
    "        outputs = model(inputs).flatten()\n",
    "        loss = criterion(outputs, targets)\n",
    "        loss.backward()\n",
    "        optimizer.step()\n",
    "    print(\"Epoch\", epoch+1, \"loss:\", loss.item())\n",
    "\n",
    "# Evaluate the model\n",
    "with torch.no_grad():\n",
    "    correct = 0\n",
    "    total = 0\n",
    "    for inputs, targets in test_loader:\n",
    "        outputs = model(inputs).flatten()\n",
    "        predicted = torch.round(outputs)\n",
    "        print(predicted)\n",
    "        total += targets.size(0)\n",
    "        correct += (predicted == targets).sum().item()\n",
    "    accuracy = 100 * correct / total\n",
    "    print(\"Test accuracy:\", accuracy)"
   ]
  },
  {
   "cell_type": "code",
   "execution_count": null,
   "id": "71584445-5826-4d83-bca3-49ba94b28589",
   "metadata": {},
   "outputs": [],
   "source": []
  },
  {
   "cell_type": "code",
   "execution_count": null,
   "id": "d7780a26-15eb-40ee-a58b-371dd728c458",
   "metadata": {},
   "outputs": [],
   "source": []
  }
 ],
 "metadata": {
  "kernelspec": {
   "display_name": "Python 3 (ipykernel)",
   "language": "python",
   "name": "python3"
  },
  "language_info": {
   "codemirror_mode": {
    "name": "ipython",
    "version": 3
   },
   "file_extension": ".py",
   "mimetype": "text/x-python",
   "name": "python",
   "nbconvert_exporter": "python",
   "pygments_lexer": "ipython3",
   "version": "3.11.2"
  }
 },
 "nbformat": 4,
 "nbformat_minor": 5
}
